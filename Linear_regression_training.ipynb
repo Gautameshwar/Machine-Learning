{
  "nbformat": 4,
  "nbformat_minor": 0,
  "metadata": {
    "colab": {
      "name": "Linear regression training.ipynb",
      "provenance": [],
      "include_colab_link": true
    },
    "kernelspec": {
      "name": "python3",
      "display_name": "Python 3"
    },
    "language_info": {
      "name": "python"
    }
  },
  "cells": [
    {
      "cell_type": "markdown",
      "metadata": {
        "id": "view-in-github",
        "colab_type": "text"
      },
      "source": [
        "<a href=\"https://colab.research.google.com/github/Gautameshwar/Machine-Learning/blob/main/Linear_regression_training.ipynb\" target=\"_parent\"><img src=\"https://colab.research.google.com/assets/colab-badge.svg\" alt=\"Open In Colab\"/></a>"
      ]
    },
    {
      "cell_type": "code",
      "metadata": {
        "id": "___M3OrX5WmR"
      },
      "source": [
        "from sklearn import linear_model"
      ],
      "execution_count": null,
      "outputs": []
    },
    {
      "cell_type": "code",
      "metadata": {
        "colab": {
          "base_uri": "https://localhost:8080/",
          "height": 320
        },
        "id": "_G9sQr6j5dOf",
        "outputId": "cf079029-863f-49f5-fcbe-9b50c28d2dcd"
      },
      "source": [
        "import numpy as np\n",
        "import matplotlib.pyplot as plt\n",
        "import random as rnd\n",
        "\n",
        "#27.08.21\n",
        "from sklearn import linear_model\n",
        "reg=linear_model.LinearRegression()\n",
        "\n",
        "m=2\n",
        "c=1\n",
        "\n",
        "#the x-points\n",
        "x=np.arange(25)\n",
        "\n",
        "#shake the points a bit by random errors ranging from 0-3\n",
        "y=np.array([m*i +c+ rnd.uniform(0,6) for i in x])\n",
        "\n",
        "#do the fitting n get out the w0,w1, and accuracy\n",
        "reg.fit(x.reshape(-1,1), y)\n",
        "eff,w1[0],w0=reg.score(x.reshape(-1,1),y),reg.coef_,reg.intercept_\n",
        "print(\"m=2, c=3\",'\\n','Accuracy: ',eff,'\\n','m=',w1[0],' c=',w0)\n",
        "\n",
        "#plot it!\n",
        "plt.figure()\n",
        "plt.grid()\n",
        "plt.plot(x,y,'r *')\n",
        "plt.plot(x,w1*x+w0,'b')\n",
        "plt.show()"
      ],
      "execution_count": null,
      "outputs": [
        {
          "output_type": "stream",
          "text": [
            "m=2, c=3 \n",
            " Accuracy:  0.9867570455970641 \n",
            " m= 2.0116459776127824  c= 4.005617890552035\n"
          ],
          "name": "stdout"
        },
        {
          "output_type": "display_data",
          "data": {
            "image/png": "[encoded data removed]",
            "text/plain": [
              "<Figure size 432x288 with 1 Axes>"
            ]
          },
          "metadata": {
            "needs_background": "light"
          }
        }
      ]
    },
    {
      "cell_type": "code",
      "metadata": {
        "id": "IZgO55IM6AmN"
      },
      "source": [
        ""
      ],
      "execution_count": null,
      "outputs": []
    }
  ]
}