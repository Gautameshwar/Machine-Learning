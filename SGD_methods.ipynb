{
  "nbformat": 4,
  "nbformat_minor": 0,
  "metadata": {
    "colab": {
      "name": "SGD methods.ipynb",
      "provenance": [],
      "collapsed_sections": [],
      "authorship_tag": "ABX9TyMhjN6I4YS/UrpLzzcqhY8r",
      "include_colab_link": true
    },
    "kernelspec": {
      "name": "python3",
      "display_name": "Python 3"
    },
    "language_info": {
      "name": "python"
    }
  },
  "cells": [
    {
      "cell_type": "markdown",
      "metadata": {
        "id": "view-in-github",
        "colab_type": "text"
      },
      "source": [
        "<a href=\"https://colab.research.google.com/github/Gautameshwar/Machine-Learning/blob/main/SGD_methods.ipynb\" target=\"_parent\"><img src=\"https://colab.research.google.com/assets/colab-badge.svg\" alt=\"Open In Colab\"/></a>"
      ]
    },
    {
      "cell_type": "code",
      "metadata": {
        "colab": {
          "base_uri": "https://localhost:8080/",
          "height": 341
        },
        "id": "SzDH-RirVT1o",
        "outputId": "56e71c0e-cd33-4a96-c95d-3751f3b61607"
      },
      "source": [
        "import numpy as np\n",
        "import matplotlib.pyplot as plt\n",
        "from sklearn import linear_model\n",
        "reg=linear_model.LinearRegression()\n",
        "\n",
        "#linear line\n",
        "m=2\n",
        "c=3\n",
        "\n",
        "#our random data\n",
        "x=np.arange(50)\n",
        "y=np.array([(m+np.random.uniform())*i + c+ np.random.uniform(0,5) for i in x])\n",
        "\n",
        "#to find the gradient descent of a linear data...\n",
        "\n",
        "#loss fn takes x,y arrays, returns their mean squared loss\n",
        "def lossfn(x,y,m,c):\n",
        "    s=0\n",
        "    for i in range(x.size):\n",
        "        s+=(y[i]-(m*x[i]+c))**2\n",
        "    s/=x.size\n",
        "    \n",
        "    return s\n",
        "\n",
        "#defining the gradient fn\n",
        "def grad(x,y,m,c):\n",
        "    #weight of our change along negative gradient \n",
        "    h=0.0001\n",
        "    s=0\n",
        "    sx=0\n",
        "    \n",
        "    for i in range(x.size):\n",
        "        s+=m*x[i]+c-y[i]\n",
        "        sx+=x[i]*(m*x[i]+c-y[i])\n",
        "    \n",
        "    gm=2/x.size*sx\n",
        "    gc=2/x.size*s\n",
        "    \n",
        "    return m-h*gm, c-h*gc\n",
        "\n",
        "#sgd batch method\n",
        "def batch(x,y,a,b):\n",
        "    #run for a large no of iterations.. (how large is large enuf??)\n",
        "    for i in range(1000):\n",
        "        a,b=grad(x,y,a,b)\n",
        "    return a,b\n",
        "\n",
        "#our guessed slpoe n intercept using batch sgd..\n",
        "a1,b1=batch(x, y, 1, 1)\n",
        "print(a1,b1)\n",
        "\n",
        "#sgd mini batch method\n",
        "def minibatch(x,y,a,b):\n",
        "    x1,y1=np.array(x[::3]),np.array(y[::3])\n",
        "    x2,y2=np.array(x[1::3]),np.array(y[1::3])\n",
        "    x3,y3=np.array(x[2::3]),np.array(y[2::3])\n",
        "    \n",
        "    a,b=batch(x1,y1,a,b)\n",
        "    a,b=batch(x2,y2,a,b)\n",
        "    a,b=batch(x3,y3,a,b)\n",
        "    \n",
        "    return a,b\n",
        "\n",
        "a2,b2=minibatch(x,y,1,1)\n",
        "print(a2,b2)\n",
        "\n",
        "#sgd per point\n",
        "def sgdpoint(x,y,a,b):\n",
        "    #imput an array of single ith element of x,y and find the gradient...\n",
        "    for i in range(x.size):\n",
        "        a,b=grad(np.array([x[i]]),np.array([y[i]]),a,b)\n",
        "        \n",
        "        #this gives more error than simple grad...!\n",
        "        # a,b=batch(np.array([x[i]]),np.array([y[i]]),a,b)\n",
        "        \n",
        "    return a,b\n",
        "\n",
        "a3,b3=sgdpoint(x,y,1,1)\n",
        "print(a3,b3)\n",
        "\n",
        "reg.fit(x.reshape(-1,1), y)\n",
        "a4,b4=reg.coef_[0],reg.intercept_\n",
        "print(a4,b4)\n",
        "\n",
        "#plotting our random data\n",
        "plt.figure()\n",
        "plt.grid()\n",
        "plt.plot(x,y,'k .')\n",
        "plt.plot(x,a1*x+b1,'r',label='Batch gradient')\n",
        "plt.plot(x,a2*x+b2,'g',label='Mini-Batch gradient')\n",
        "plt.plot(x,a3*x+b3,'c',label='Per point gradient')\n",
        "plt.plot(x,a4*x+b4,'y',label='Sklearn')\n",
        "plt.legend()\n",
        "plt.show()"
      ],
      "execution_count": null,
      "outputs": [
        {
          "output_type": "stream",
          "text": [
            "2.5566731459821956 1.259391531463226\n",
            "2.5624927980862195 1.6371668541335938\n",
            "2.420780902494743 1.0911860576595331\n",
            "2.4349961466568226 5.273454456838003\n"
          ],
          "name": "stdout"
        },
        {
          "output_type": "display_data",
          "data": {
            "image/png": "[encoded data removed]",
            "text/plain": [
              "<Figure size 432x288 with 1 Axes>"
            ]
          },
          "metadata": {
            "needs_background": "light"
          }
        }
      ]
    },
    {
      "cell_type": "code",
      "metadata": {
        "id": "OHCt9lVSV1Gh"
      },
      "source": [
        ""
      ],
      "execution_count": null,
      "outputs": []
    }
  ]
}